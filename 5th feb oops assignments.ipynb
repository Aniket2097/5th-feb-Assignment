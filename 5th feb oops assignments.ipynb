{
 "cells": [
  {
   "cell_type": "markdown",
   "id": "9b3578ea-94c2-4d78-92e3-695f174ae153",
   "metadata": {},
   "source": [
    "Q1. Explain Class and Object with respect to Object-Oriented Programming. Give a suitable example.\n",
    "\n",
    "Ans - An object is simply a collection of data (variables) and methods (functions). Similarly, a class is a blueprint for that object.\n",
    "\n",
    "A class is considered as a blueprint of objects. We can think of the class as a sketch (prototype) of a house. It contains all the details about the floors, doors, windows, etc. Based on these descriptions we build the house. House is the object.\n",
    "\n",
    "Since many houses can be made from the same description, we can create many objects from a class.\n",
    "\n"
   ]
  },
  {
   "cell_type": "markdown",
   "id": "a1a4adbb-29ca-4ee1-9447-1b2e65b325a5",
   "metadata": {},
   "source": [
    "Q2. Name the four pillars of OOPs.\n",
    "\n",
    "Ans - The four pillars for OOPs are:\n",
    "Abstraction.\n",
    "Encapsulation.\n",
    "Inheritance.\n",
    "Polymorphism."
   ]
  },
  {
   "cell_type": "markdown",
   "id": "5a44bc53-26b8-479e-a957-44f04b92cf4d",
   "metadata": {},
   "source": [
    "Q3. Explain why the __init__() function is used. Give a suitable example.\n",
    "\n",
    "Ans - The __init__.py files are required to make Python treat directories containing the file as packages. This prevents directories with a common name, such as string , unintentionally hiding valid modules that occur later on the module search path.\n",
    "\n",
    "example - \n",
    "\n",
    "class Person:\n",
    "  def __init__(self, name, age):\n",
    "    self.name = name\n",
    "    self.age = age\n",
    "\n",
    "p1 = Person(\"John\", 36)\n",
    "\n",
    "print(p1.name)\n",
    "print(p1.age)\n",
    "\n",
    "Outcame - John\n",
    "          36"
   ]
  },
  {
   "cell_type": "markdown",
   "id": "590bee09-12ea-42ef-86e6-c089bd231353",
   "metadata": {},
   "source": [
    "Q4. Why self is used in OOPs?\n",
    "\n",
    "Ans - The self variable is used to represent the instance of the class which is often used in object-oriented programming. It works as a reference to the object. Python uses the self parameter to refer to instance attributes and methods of the class."
   ]
  },
  {
   "cell_type": "markdown",
   "id": "7eaddb58-5dec-4774-bf5c-ccd7733789a3",
   "metadata": {},
   "source": [
    "Q5. What is inheritance? Give an example for each type of inheritance.\n",
    "\n",
    "Ans - Inheritance is a process of obtaining properties and characteristics(variables and methods) of another class.\n",
    "\n",
    "There are five types of inheritances:\n",
    "Single Inheritance.\n",
    "Multiple Inheritance.\n",
    "Multilevel Inheritance.\n",
    "Hierarchical Inheritance.\n",
    "Hybrid Inheritance.\n",
    "\n"
   ]
  },
  {
   "cell_type": "code",
   "execution_count": null,
   "id": "b5b2b86f-d55f-41c6-a243-ab5f969491ab",
   "metadata": {},
   "outputs": [],
   "source": []
  },
  {
   "cell_type": "code",
   "execution_count": null,
   "id": "74dbd88c-8f3a-4db3-8e77-53c963fd139d",
   "metadata": {},
   "outputs": [],
   "source": []
  },
  {
   "cell_type": "code",
   "execution_count": null,
   "id": "c31d39e7-36c2-4490-b893-d8c4e63917cc",
   "metadata": {},
   "outputs": [],
   "source": []
  },
  {
   "cell_type": "code",
   "execution_count": null,
   "id": "a5cf2e51-d256-4040-ac10-daa021b12a2a",
   "metadata": {},
   "outputs": [],
   "source": []
  },
  {
   "cell_type": "code",
   "execution_count": null,
   "id": "d914f836-1185-4011-a725-8550ada075e4",
   "metadata": {},
   "outputs": [],
   "source": []
  },
  {
   "cell_type": "code",
   "execution_count": null,
   "id": "446df2f0-da1e-4091-8dff-d5f38d40fc66",
   "metadata": {},
   "outputs": [],
   "source": []
  }
 ],
 "metadata": {
  "kernelspec": {
   "display_name": "Python 3 (ipykernel)",
   "language": "python",
   "name": "python3"
  },
  "language_info": {
   "codemirror_mode": {
    "name": "ipython",
    "version": 3
   },
   "file_extension": ".py",
   "mimetype": "text/x-python",
   "name": "python",
   "nbconvert_exporter": "python",
   "pygments_lexer": "ipython3",
   "version": "3.10.8"
  }
 },
 "nbformat": 4,
 "nbformat_minor": 5
}
